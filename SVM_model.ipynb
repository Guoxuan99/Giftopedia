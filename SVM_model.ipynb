{
 "cells": [
  {
   "cell_type": "code",
   "execution_count": 1,
   "id": "b6a30c3c",
   "metadata": {},
   "outputs": [],
   "source": [
    "import numpy as np\n",
    "import pandas as pd\n",
    "import matplotlib.pyplot as plt\n",
    "from sklearn.multioutput import MultiOutputClassifier\n",
    "from sklearn.svm import SVC\n",
    "from sklearn.model_selection import train_test_split\n",
    "from sklearn.metrics import multilabel_confusion_matrix, ConfusionMatrixDisplay, classification_report\n",
    "from utils import confusion_matrix, get_dataset\n",
    "from sklearn.preprocessing import MinMaxScaler\n",
    "from datetime import datetime"
   ]
  },
  {
   "cell_type": "code",
   "execution_count": 8,
   "id": "eaf52051",
   "metadata": {},
   "outputs": [
    {
     "name": "stdout",
     "output_type": "stream",
     "text": [
      "              precision    recall  f1-score   support\n",
      "\n",
      "           0       0.00      0.00      0.00         0\n",
      "           1       0.00      0.00      0.00         6\n",
      "           2       0.00      0.00      0.00         5\n",
      "           3       0.50      0.33      0.40         3\n",
      "           4       0.00      0.00      0.00         1\n",
      "           5       0.40      0.50      0.44         8\n",
      "           6       0.33      0.14      0.20         7\n",
      "           7       1.00      0.33      0.50         6\n",
      "           8       0.50      0.09      0.15        11\n",
      "           9       0.00      0.00      0.00         5\n",
      "          10       0.78      0.64      0.70        11\n",
      "          11       0.22      0.17      0.19        12\n",
      "\n",
      "   micro avg       0.42      0.24      0.31        75\n",
      "   macro avg       0.31      0.18      0.22        75\n",
      "weighted avg       0.40      0.24      0.28        75\n",
      " samples avg       0.44      0.24      0.30        75\n",
      "\n"
     ]
    },
    {
     "name": "stderr",
     "output_type": "stream",
     "text": [
      "/home/jaws/miniconda3/envs/ml_project/lib/python3.8/site-packages/sklearn/metrics/_classification.py:1248: UndefinedMetricWarning: Precision and F-score are ill-defined and being set to 0.0 in labels with no predicted samples. Use `zero_division` parameter to control this behavior.\n",
      "  _warn_prf(average, modifier, msg_start, len(result))\n",
      "/home/jaws/miniconda3/envs/ml_project/lib/python3.8/site-packages/sklearn/metrics/_classification.py:1248: UndefinedMetricWarning: Recall and F-score are ill-defined and being set to 0.0 in labels with no true samples. Use `zero_division` parameter to control this behavior.\n",
      "  _warn_prf(average, modifier, msg_start, len(result))\n",
      "/home/jaws/miniconda3/envs/ml_project/lib/python3.8/site-packages/sklearn/metrics/_classification.py:1248: UndefinedMetricWarning: Precision and F-score are ill-defined and being set to 0.0 in samples with no predicted labels. Use `zero_division` parameter to control this behavior.\n",
      "  _warn_prf(average, modifier, msg_start, len(result))\n"
     ]
    }
   ],
   "source": [
    "X_train, X_test, y_train, y_test = get_dataset()\n",
    "svm = SVC(C=100, kernel=\"rbf\",probability=True)\n",
    "\n",
    "multilabel_classifier = MultiOutputClassifier(svm, n_jobs=-1)\n",
    "multilabel_classifier.fit(X_train, y_train)\n",
    "y_pred = multilabel_classifier.predict(X_train)\n",
    "y_test_pred = multilabel_classifier.predict(X_test)\n",
    "print(classification_report(y_test,y_test_pred))\n",
    "# Generate multiclass confusion matrices\n",
    "matrices = multilabel_confusion_matrix(y_train, y_pred)\n",
    "matrices_2 = multilabel_confusion_matrix(y_test, y_test_pred)\n",
    "\n",
    "# print(\"train\")\n",
    "# print(matrices)\n",
    "# print(\"test\")\n",
    "# print(matrices_2)\n",
    "# # Plotting matrices: code\n",
    "# cmd = ConfusionMatrixDisplay(matrices[0], display_labels=np.unique(y_test)).plot()\n",
    "# plt.title('Confusion Matrix for label 1 (type)')\n",
    "# plt.show()\n",
    "# cmd = ConfusionMatrixDisplay(matrices[1], display_labels=np.unique(y_test)).plot()\n",
    "# plt.title('Confusion Matrix for label 2 (color)')\n",
    "# plt.show()"
   ]
  },
  {
   "cell_type": "code",
   "execution_count": 6,
   "id": "416e8517",
   "metadata": {},
   "outputs": [
    {
     "data": {
      "text/plain": [
       "g_Accompaniment (Pets, etc..)                   12\n",
       "g_Cash                                          29\n",
       "g_Cosmetics (Lipstick, perfumes, etc..)         16\n",
       "g_Fitness/ Sports Gadgets                       15\n",
       "g_Flower                                         8\n",
       "g_Food and Snacks                               46\n",
       "g_Hand Made Gift (handmade photobook, etc..)    38\n",
       "g_Jewelry (Necklace, Ring, etc..)               14\n",
       "g_Outfit (T-shirt, shoes, etc..)                25\n",
       "g_Stationery                                     7\n",
       "g_Technology Gadgets                            43\n",
       "g_Vacation                                      35\n",
       "dtype: int64"
      ]
     },
     "execution_count": 6,
     "metadata": {},
     "output_type": "execute_result"
    }
   ],
   "source": [
    "np.sum(y_train,axis=0)"
   ]
  },
  {
   "cell_type": "code",
   "execution_count": 9,
   "id": "1a2e9706",
   "metadata": {},
   "outputs": [
    {
     "name": "stdout",
     "output_type": "stream",
     "text": [
      "              precision    recall  f1-score   support\n",
      "\n",
      "           0       1.00      0.33      0.50         3\n",
      "           1       0.00      0.00      0.00         1\n",
      "           2       0.42      0.62      0.50         8\n",
      "           3       0.43      0.43      0.43         7\n",
      "           4       1.00      0.33      0.50         6\n",
      "           5       0.50      0.18      0.27        11\n",
      "           6       0.00      0.00      0.00         5\n",
      "           7       0.70      0.64      0.67        11\n",
      "           8       0.62      0.42      0.50        12\n",
      "           9       0.91      0.71      0.80        14\n",
      "          10       1.00      0.50      0.67         2\n",
      "          11       0.00      0.00      0.00         1\n",
      "\n",
      "   micro avg       0.64      0.44      0.53        81\n",
      "   macro avg       0.55      0.35      0.40        81\n",
      "weighted avg       0.63      0.44      0.50        81\n",
      " samples avg       0.62      0.45      0.51        81\n",
      "\n"
     ]
    },
    {
     "name": "stderr",
     "output_type": "stream",
     "text": [
      "/home/jaws/miniconda3/envs/ml_project/lib/python3.8/site-packages/sklearn/metrics/_classification.py:1248: UndefinedMetricWarning: Precision and F-score are ill-defined and being set to 0.0 in labels with no predicted samples. Use `zero_division` parameter to control this behavior.\n",
      "  _warn_prf(average, modifier, msg_start, len(result))\n",
      "/home/jaws/miniconda3/envs/ml_project/lib/python3.8/site-packages/sklearn/metrics/_classification.py:1248: UndefinedMetricWarning: Precision and F-score are ill-defined and being set to 0.0 in samples with no predicted labels. Use `zero_division` parameter to control this behavior.\n",
      "  _warn_prf(average, modifier, msg_start, len(result))\n"
     ]
    }
   ],
   "source": [
    "X_train, X_test, y_train, y_test = get_dataset(filter=True)\n",
    "svm = SVC(C=5.1, kernel=\"rbf\",probability=True)\n",
    "\n",
    "multilabel_classifier = MultiOutputClassifier(svm, n_jobs=-1)\n",
    "multilabel_classifier.fit(X_train, y_train)\n",
    "y_pred = multilabel_classifier.predict(X_train)\n",
    "y_test_pred = multilabel_classifier.predict(X_test)\n",
    "print(classification_report(y_test,y_test_pred))\n",
    "# Generate multiclass confusion matrices\n",
    "matrices = multilabel_confusion_matrix(y_train, y_pred)\n",
    "matrices_2 = multilabel_confusion_matrix(y_test, y_test_pred)\n",
    "\n",
    "# print(\"train\")\n",
    "# print(matrices)\n",
    "# print(\"test\")\n",
    "# print(matrices_2)\n",
    "# # Plotting matrices: code\n",
    "# cmd = ConfusionMatrixDisplay(matrices[0], display_labels=np.unique(y_test)).plot()\n",
    "# plt.title('Confusion Matrix for label 1 (type)')\n",
    "# plt.show()\n",
    "# cmd = ConfusionMatrixDisplay(matrices[1], display_labels=np.unique(y_test)).plot()\n",
    "# plt.title('Confusion Matrix for label 2 (color)')\n",
    "# plt.show()"
   ]
  },
  {
   "cell_type": "code",
   "execution_count": null,
   "id": "842b3048-e784-4953-91d8-e5ea1de9ef23",
   "metadata": {},
   "outputs": [],
   "source": []
  }
 ],
 "metadata": {
  "kernelspec": {
   "display_name": "Python 3",
   "language": "python",
   "name": "python3"
  },
  "language_info": {
   "codemirror_mode": {
    "name": "ipython",
    "version": 3
   },
   "file_extension": ".py",
   "mimetype": "text/x-python",
   "name": "python",
   "nbconvert_exporter": "python",
   "pygments_lexer": "ipython3",
   "version": "3.8.10"
  }
 },
 "nbformat": 4,
 "nbformat_minor": 5
}
