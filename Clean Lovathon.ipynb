{
 "cells": [
  {
   "cell_type": "code",
   "execution_count": 1,
   "metadata": {
    "colab": {
     "base_uri": "https://localhost:8080/"
    },
    "executionInfo": {
     "elapsed": 3568,
     "status": "ok",
     "timestamp": 1622731616849,
     "user": {
      "displayName": "Yi Chong",
      "photoUrl": "https://lh3.googleusercontent.com/a-/AOh14GiPtXBFAhk5rekZYvy0iI74dSN6ocIKn-UouPMS=s64",
      "userId": "04100457509697227857"
     },
     "user_tz": -480
    },
    "id": "5dAYPavmMtfd",
    "outputId": "0eb369be-dfa6-4d0a-975b-0cf6a51d3e11"
   },
   "outputs": [
    {
     "name": "stdout",
     "output_type": "stream",
     "text": [
      "Requirement already satisfied: scikit-multilearn in /usr/local/lib/python3.7/dist-packages (0.2.0)\n"
     ]
    }
   ],
   "source": [
    "#install necessary packages\n",
    "!pip install scikit-multilearn"
   ]
  },
  {
   "cell_type": "code",
   "execution_count": 2,
   "metadata": {
    "colab": {
     "base_uri": "https://localhost:8080/"
    },
    "executionInfo": {
     "elapsed": 6,
     "status": "ok",
     "timestamp": 1622731616850,
     "user": {
      "displayName": "Yi Chong",
      "photoUrl": "https://lh3.googleusercontent.com/a-/AOh14GiPtXBFAhk5rekZYvy0iI74dSN6ocIKn-UouPMS=s64",
      "userId": "04100457509697227857"
     },
     "user_tz": -480
    },
    "id": "Xs1HUwcmMwUE",
    "outputId": "4d373416-6c49-4d53-cebb-b8e4e8626653"
   },
   "outputs": [
    {
     "name": "stdout",
     "output_type": "stream",
     "text": [
      "Drive already mounted at /content/drive; to attempt to forcibly remount, call drive.mount(\"/content/drive\", force_remount=True).\n"
     ]
    }
   ],
   "source": [
    "#mount google drive\n",
    "from google.colab import drive\n",
    "drive.mount('/content/drive')"
   ]
  },
  {
   "cell_type": "code",
   "execution_count": 3,
   "metadata": {
    "executionInfo": {
     "elapsed": 1014,
     "status": "ok",
     "timestamp": 1622731617860,
     "user": {
      "displayName": "Yi Chong",
      "photoUrl": "https://lh3.googleusercontent.com/a-/AOh14GiPtXBFAhk5rekZYvy0iI74dSN6ocIKn-UouPMS=s64",
      "userId": "04100457509697227857"
     },
     "user_tz": -480
    },
    "id": "6v_fIFPoMikg"
   },
   "outputs": [],
   "source": [
    "#imports\n",
    "import os\n",
    "from datetime import datetime\n",
    " \n",
    "import pandas as pd\n",
    "import matplotlib.pyplot as plt\n",
    "import numpy as np\n",
    "from sklearn.model_selection import train_test_split\n",
    "\n",
    "from sklearn.decomposition import PCA\n",
    "from torch.utils.data import DataLoader, ConcatDataset"
   ]
  },
  {
   "cell_type": "code",
   "execution_count": 4,
   "metadata": {
    "executionInfo": {
     "elapsed": 4,
     "status": "ok",
     "timestamp": 1622731617860,
     "user": {
      "displayName": "Yi Chong",
      "photoUrl": "https://lh3.googleusercontent.com/a-/AOh14GiPtXBFAhk5rekZYvy0iI74dSN6ocIKn-UouPMS=s64",
      "userId": "04100457509697227857"
     },
     "user_tz": -480
    },
    "id": "G8mu-G2iMyvs"
   },
   "outputs": [],
   "source": [
    "#get correct directory\n",
    "os.chdir('/content/drive/MyDrive/Love Hackathon')"
   ]
  },
  {
   "cell_type": "code",
   "execution_count": 5,
   "metadata": {
    "executionInfo": {
     "elapsed": 2406,
     "status": "ok",
     "timestamp": 1622731620263,
     "user": {
      "displayName": "Yi Chong",
      "photoUrl": "https://lh3.googleusercontent.com/a-/AOh14GiPtXBFAhk5rekZYvy0iI74dSN6ocIKn-UouPMS=s64",
      "userId": "04100457509697227857"
     },
     "user_tz": -480
    },
    "id": "PGcRfA6DM0Bl"
   },
   "outputs": [],
   "source": [
    "#from .py\n",
    "from utils import *"
   ]
  },
  {
   "cell_type": "code",
   "execution_count": 6,
   "metadata": {
    "executionInfo": {
     "elapsed": 699,
     "status": "ok",
     "timestamp": 1622731620960,
     "user": {
      "displayName": "Yi Chong",
      "photoUrl": "https://lh3.googleusercontent.com/a-/AOh14GiPtXBFAhk5rekZYvy0iI74dSN6ocIKn-UouPMS=s64",
      "userId": "04100457509697227857"
     },
     "user_tz": -480
    },
    "id": "iMV23uEIM2_8"
   },
   "outputs": [],
   "source": [
    "#get datasets\n",
    "X, y, X_train, X_test, y_train, y_test = get_dataset()"
   ]
  },
  {
   "cell_type": "markdown",
   "metadata": {
    "id": "mzuRjHn9Niv1"
   },
   "source": [
    "## Sklearn"
   ]
  },
  {
   "cell_type": "code",
   "execution_count": 7,
   "metadata": {
    "executionInfo": {
     "elapsed": 8,
     "status": "ok",
     "timestamp": 1622731620961,
     "user": {
      "displayName": "Yi Chong",
      "photoUrl": "https://lh3.googleusercontent.com/a-/AOh14GiPtXBFAhk5rekZYvy0iI74dSN6ocIKn-UouPMS=s64",
      "userId": "04100457509697227857"
     },
     "user_tz": -480
    },
    "id": "nQv3RxVnM3B8"
   },
   "outputs": [],
   "source": [
    "#Decision tree\n",
    "from sklearn.tree import DecisionTreeClassifier\n",
    "from sklearn.tree import ExtraTreeClassifier\n",
    "from sklearn.ensemble import ExtraTreesClassifier\n",
    "from sklearn.neighbors import KNeighborsClassifier\n",
    "from sklearn.neural_network import MLPClassifier\n",
    "from sklearn.ensemble import RandomForestClassifier\n",
    "from sklearn.svm import SVC\n",
    "from sklearn.multioutput import MultiOutputClassifier\n",
    "\n",
    "from skmultilearn.problem_transform import BinaryRelevance\n",
    "from skmultilearn.problem_transform import ClassifierChain\n",
    "from skmultilearn.problem_transform import LabelPowerset\n",
    "\n",
    "from sklearn.naive_bayes import GaussianNB\n",
    "from sklearn.linear_model import LogisticRegression\n",
    "from sklearn.linear_model import RidgeClassifierCV\n",
    "from sklearn.linear_model import RidgeClassifier\n",
    "from sklearn.neighbors import RadiusNeighborsClassifier\n",
    "from sklearn.discriminant_analysis import QuadraticDiscriminantAnalysis\n",
    "from sklearn.neighbors import NearestCentroid\n",
    "from sklearn.linear_model import LogisticRegressionCV\n",
    "from sklearn.svm import LinearSVC\n",
    "from sklearn.pipeline import make_pipeline\n",
    "from sklearn.preprocessing import StandardScaler\n",
    "from sklearn.discriminant_analysis import LinearDiscriminantAnalysis\n",
    "# from sklearn.semi_supervised import LabelSpreading\n",
    "\n",
    "dt_clf = DecisionTreeClassifier(random_state=0)\n",
    "et_clf = ExtraTreeClassifier(random_state=0)\n",
    "ets_clf = ExtraTreesClassifier(n_estimators=100, random_state=0)\n",
    "knn_clf = KNeighborsClassifier(n_neighbors=16)\n",
    "mlp1_clf = MLPClassifier(hidden_layer_sizes=(80,54,12), activation = 'identity',solver='adam', alpha=0.05, learning_rate='constant' ,random_state=1, max_iter=5000)\n",
    "mlp_clf = MLPClassifier(hidden_layer_sizes=(54,48), activation = 'identity',solver='adam', random_state=1, max_iter=5000)\n",
    "rdm_f_clf = RandomForestClassifier(n_estimators=1, criterion='entropy', random_state=12)\n",
    "\n",
    "svm = SVC(C=1.8, kernel=\"rbf\",probability=True)\n",
    "svm_clf = MultiOutputClassifier(svm, n_jobs=-1)\n",
    "\n",
    "clf1_1 = BinaryRelevance(GaussianNB())\n",
    "clf1_2 = BinaryRelevance(LogisticRegression())\n",
    "clf1_3 = BinaryRelevance(RidgeClassifierCV(alphas=[1e-3, 1e-2, 1e-1, 1]))\n",
    "clf1_4 = BinaryRelevance(RidgeClassifier())\n",
    "clf1_5 = BinaryRelevance(RadiusNeighborsClassifier(radius=10.0))\n",
    "clf1_6 = BinaryRelevance(QuadraticDiscriminantAnalysis())\n",
    "clf1_7 = BinaryRelevance(NearestCentroid())\n",
    "clf1_8 = BinaryRelevance(LogisticRegressionCV(cv=5, random_state=0))\n",
    "clf1_9 = BinaryRelevance(make_pipeline(StandardScaler(),LinearSVC(random_state=0, tol=1e-5)))\n",
    "clf1_10 = BinaryRelevance(LinearDiscriminantAnalysis())\n",
    "\n",
    "clf2_1 = ClassifierChain(GaussianNB())\n",
    "clf2_2 = ClassifierChain(LogisticRegression())\n",
    "clf2_3 = ClassifierChain(RidgeClassifierCV(alphas=[1e-3, 1e-2, 1e-1, 1]))\n",
    "clf2_4 = ClassifierChain(RidgeClassifier())\n",
    "clf2_5 = ClassifierChain(RadiusNeighborsClassifier(radius=10.0))\n",
    "clf2_6 = ClassifierChain(QuadraticDiscriminantAnalysis())\n",
    "clf2_7 = ClassifierChain(NearestCentroid())\n",
    "clf2_8 = ClassifierChain(LogisticRegressionCV(cv=5, random_state=0))\n",
    "clf2_9 = ClassifierChain(make_pipeline(StandardScaler(),LinearSVC(random_state=0, tol=1e-5)))\n",
    "clf2_10 = ClassifierChain(LinearDiscriminantAnalysis())\n",
    "\n",
    "clf3_1 = LabelPowerset(GaussianNB())\n",
    "clf3_2 = LabelPowerset(LogisticRegression())\n",
    "clf3_3 = LabelPowerset(RidgeClassifierCV(alphas=[1e-3, 1e-2, 1e-1, 1]))\n",
    "clf3_4 = LabelPowerset(RidgeClassifier())\n",
    "clf3_5 = LabelPowerset(RadiusNeighborsClassifier(radius=10.0))\n",
    "clf3_6 = LabelPowerset(QuadraticDiscriminantAnalysis())\n",
    "clf3_7 = LabelPowerset(NearestCentroid())\n",
    "clf3_8 = LabelPowerset(LogisticRegressionCV(cv=5, random_state=0))\n",
    "clf3_9 = LabelPowerset(make_pipeline(StandardScaler(),LinearSVC(random_state=0, tol=1e-5)))\n",
    "clf3_10 = LabelPowerset(LinearDiscriminantAnalysis())"
   ]
  },
  {
   "cell_type": "code",
   "execution_count": 8,
   "metadata": {
    "executionInfo": {
     "elapsed": 7,
     "status": "ok",
     "timestamp": 1622731620961,
     "user": {
      "displayName": "Yi Chong",
      "photoUrl": "https://lh3.googleusercontent.com/a-/AOh14GiPtXBFAhk5rekZYvy0iI74dSN6ocIKn-UouPMS=s64",
      "userId": "04100457509697227857"
     },
     "user_tz": -480
    },
    "id": "B3-MnOw5SL2k"
   },
   "outputs": [],
   "source": [
    "# models = [mlp_clf, mlp1_clf, svm_clf, dt_clf, et_clf, ets_clf, knn_clf, rdm_f_clf,\n",
    "#           clf1_1,clf1_2,clf1_3,clf1_4,clf1_5,clf1_6,clf1_7,clf1_8,clf1_9,clf1_10,\n",
    "#           clf2_1,clf2_2,clf2_3,clf2_4,clf2_5,clf2_6,clf2_7,clf2_8,clf2_9,clf2_10,\n",
    "#           clf3_1,clf3_2,clf3_3,clf3_4,clf3_5,clf3_6,clf3_7,clf3_8,clf3_9,clf3_10]\n",
    "\n",
    "# score_df, best_model, best_f1_macro_mean = cross_validate_models(models, X, y)\n"
   ]
  },
  {
   "cell_type": "code",
   "execution_count": null,
   "metadata": {
    "id": "FSQP2rYYW6Bj"
   },
   "outputs": [],
   "source": []
  },
  {
   "cell_type": "markdown",
   "metadata": {
    "id": "8OSmnyqRNk_V"
   },
   "source": [
    "# Deep Learning"
   ]
  },
  {
   "cell_type": "code",
   "execution_count": 9,
   "metadata": {
    "executionInfo": {
     "elapsed": 7,
     "status": "ok",
     "timestamp": 1622731620962,
     "user": {
      "displayName": "Yi Chong",
      "photoUrl": "https://lh3.googleusercontent.com/a-/AOh14GiPtXBFAhk5rekZYvy0iI74dSN6ocIKn-UouPMS=s64",
      "userId": "04100457509697227857"
     },
     "user_tz": -480
    },
    "id": "YRWxwyCINl4j"
   },
   "outputs": [],
   "source": [
    "import torch\n",
    "import torchvision\n",
    "import torchvision.transforms as transforms\n",
    "from torch.utils.data import Dataset, DataLoader\n",
    "import matplotlib.pyplot as plt\n",
    "\n",
    "import torch.nn as nn\n",
    "import torch.optim as optim\n",
    "import torch.nn.functional as F\n",
    "import numpy as np\n",
    "\n",
    "seed = 7\n",
    "torch.manual_seed(seed)\n",
    "torch.backends.cudnn.deterministic = True\n",
    "torch.backends.cudnn.benchmark = False\n",
    "np.random.seed(seed)"
   ]
  },
  {
   "cell_type": "code",
   "execution_count": 10,
   "metadata": {
    "executionInfo": {
     "elapsed": 7,
     "status": "ok",
     "timestamp": 1622731620962,
     "user": {
      "displayName": "Yi Chong",
      "photoUrl": "https://lh3.googleusercontent.com/a-/AOh14GiPtXBFAhk5rekZYvy0iI74dSN6ocIKn-UouPMS=s64",
      "userId": "04100457509697227857"
     },
     "user_tz": -480
    },
    "id": "BGRH6bC5No7c"
   },
   "outputs": [],
   "source": [
    "#apply PCA if necessary, in this case no\n",
    "# pca = PCA(n_components=28)\n",
    "# pca.fit(X_train)\n",
    "# X_train = pca.transform(X_train)\n",
    "# X_test = pca.transform(X_test)"
   ]
  },
  {
   "cell_type": "code",
   "execution_count": 11,
   "metadata": {
    "executionInfo": {
     "elapsed": 7,
     "status": "ok",
     "timestamp": 1622731620963,
     "user": {
      "displayName": "Yi Chong",
      "photoUrl": "https://lh3.googleusercontent.com/a-/AOh14GiPtXBFAhk5rekZYvy0iI74dSN6ocIKn-UouPMS=s64",
      "userId": "04100457509697227857"
     },
     "user_tz": -480
    },
    "id": "1RknKjIlNz-_"
   },
   "outputs": [],
   "source": [
    "#convert dataset into tensor form\n",
    "class Datasets(Dataset):\n",
    "    def __init__(self, features, labels):\n",
    "        self.features = torch.tensor(features, dtype = torch.float32)\n",
    "        self.labels = torch.tensor(labels.values, dtype  = torch.float32)\n",
    "\n",
    "    def __len__(self):\n",
    "        return self.features.shape[0]\n",
    "    \n",
    "    def __getitem__(self, idx):\n",
    "        return self.features[idx], self.labels[idx]\n",
    "\n",
    "train_dataset = Datasets(X_train, y_train)\n",
    "test_dataset = Datasets(X_test, y_test)\n",
    "dataset = ConcatDataset([train_dataset, test_dataset])\n",
    "\n",
    "train_loader = DataLoader(train_dataset, batch_size = 128)\n",
    "test_loader = DataLoader(test_dataset, batch_size = 128 )"
   ]
  },
  {
   "cell_type": "code",
   "execution_count": 12,
   "metadata": {
    "executionInfo": {
     "elapsed": 8,
     "status": "ok",
     "timestamp": 1622731620964,
     "user": {
      "displayName": "Yi Chong",
      "photoUrl": "https://lh3.googleusercontent.com/a-/AOh14GiPtXBFAhk5rekZYvy0iI74dSN6ocIKn-UouPMS=s64",
      "userId": "04100457509697227857"
     },
     "user_tz": -480
    },
    "id": "FE9OhOwuQwEl"
   },
   "outputs": [],
   "source": [
    "#declare models \n",
    "model1 = declare_model(X_train.shape[1], 20, y_train.shape[1])\n",
    "model2 = declare_model(X_train.shape[1], 20, y_train.shape[1])\n",
    "model3 = declare_model(X_train.shape[1], 20, y_train.shape[1])"
   ]
  },
  {
   "cell_type": "code",
   "execution_count": 13,
   "metadata": {
    "colab": {
     "base_uri": "https://localhost:8080/",
     "height": 1000
    },
    "executionInfo": {
     "elapsed": 163481,
     "status": "ok",
     "timestamp": 1622731784438,
     "user": {
      "displayName": "Yi Chong",
      "photoUrl": "https://lh3.googleusercontent.com/a-/AOh14GiPtXBFAhk5rekZYvy0iI74dSN6ocIKn-UouPMS=s64",
      "userId": "04100457509697227857"
     },
     "user_tz": -480
    },
    "id": "kfMGoB6tQwG9",
    "outputId": "4cc4d99a-230c-43a3-f249-308f3978a9e9"
   },
   "outputs": [
    {
     "name": "stdout",
     "output_type": "stream",
     "text": [
      "Epoch 100, train_loss: 0.5477, train_acc:0.4422, test_loss:0.5450, test_acc:0.4487, train_top_acc:0.5248, test_top_acc:0.3462\n",
      "Epoch 200, train_loss: 0.5162, train_acc:0.4422, test_loss:0.5276, test_acc:0.3846, train_top_acc:0.5842, test_top_acc:0.3846\n",
      "Epoch 300, train_loss: 0.5053, train_acc:0.4554, test_loss:0.5260, test_acc:0.3846, train_top_acc:0.6238, test_top_acc:0.4615\n",
      "Epoch 400, train_loss: 0.4990, train_acc:0.4554, test_loss:0.5256, test_acc:0.3846, train_top_acc:0.6634, test_top_acc:0.4615\n",
      "Epoch 500, train_loss: 0.4922, train_acc:0.4686, test_loss:0.5254, test_acc:0.4103, train_top_acc:0.6832, test_top_acc:0.5000\n",
      "Epoch 600, train_loss: 0.4824, train_acc:0.5083, test_loss:0.5270, test_acc:0.4103, train_top_acc:0.7723, test_top_acc:0.4615\n",
      "Epoch 700, train_loss: 0.4782, train_acc:0.5248, test_loss:0.5301, test_acc:0.3974, train_top_acc:0.7228, test_top_acc:0.4615\n",
      "Epoch 800, train_loss: 0.4700, train_acc:0.5479, test_loss:0.5328, test_acc:0.3718, train_top_acc:0.8119, test_top_acc:0.4615\n",
      "Epoch 900, train_loss: 0.4626, train_acc:0.5347, test_loss:0.5365, test_acc:0.3718, train_top_acc:0.7723, test_top_acc:0.4615\n",
      "Epoch 1000, train_loss: 0.4530, train_acc:0.5479, test_loss:0.5415, test_acc:0.3718, train_top_acc:0.7921, test_top_acc:0.4231\n",
      "Epoch 1100, train_loss: 0.4517, train_acc:0.5413, test_loss:0.5459, test_acc:0.3718, train_top_acc:0.8020, test_top_acc:0.4615\n",
      "Epoch 1200, train_loss: 0.4418, train_acc:0.5875, test_loss:0.5523, test_acc:0.3718, train_top_acc:0.8119, test_top_acc:0.4615\n",
      "Epoch 1300, train_loss: 0.4404, train_acc:0.5611, test_loss:0.5583, test_acc:0.3846, train_top_acc:0.7723, test_top_acc:0.4615\n",
      "Epoch 1400, train_loss: 0.4323, train_acc:0.5743, test_loss:0.5642, test_acc:0.3846, train_top_acc:0.8614, test_top_acc:0.5000\n",
      "Epoch 1500, train_loss: 0.4299, train_acc:0.5644, test_loss:0.5707, test_acc:0.4103, train_top_acc:0.8317, test_top_acc:0.5769\n",
      "Epoch 1600, train_loss: 0.4251, train_acc:0.6007, test_loss:0.5753, test_acc:0.4103, train_top_acc:0.8515, test_top_acc:0.5769\n",
      "Epoch 1700, train_loss: 0.4139, train_acc:0.6007, test_loss:0.5830, test_acc:0.4103, train_top_acc:0.8515, test_top_acc:0.5769\n",
      "Epoch 1800, train_loss: 0.4097, train_acc:0.6337, test_loss:0.5906, test_acc:0.4103, train_top_acc:0.8218, test_top_acc:0.5769\n",
      "Epoch 1900, train_loss: 0.3923, train_acc:0.6634, test_loss:0.5978, test_acc:0.4103, train_top_acc:0.8218, test_top_acc:0.5385\n",
      "Epoch 2000, train_loss: 0.3992, train_acc:0.6337, test_loss:0.6051, test_acc:0.3974, train_top_acc:0.7822, test_top_acc:0.5385\n",
      "Epoch 2100, train_loss: 0.3978, train_acc:0.6172, test_loss:0.6126, test_acc:0.3974, train_top_acc:0.8317, test_top_acc:0.5385\n",
      "Epoch 2200, train_loss: 0.3877, train_acc:0.6337, test_loss:0.6208, test_acc:0.3974, train_top_acc:0.8416, test_top_acc:0.5385\n",
      "Epoch 2300, train_loss: 0.4007, train_acc:0.6139, test_loss:0.6294, test_acc:0.3718, train_top_acc:0.7921, test_top_acc:0.5769\n",
      "Epoch 2400, train_loss: 0.3944, train_acc:0.6337, test_loss:0.6379, test_acc:0.3718, train_top_acc:0.8119, test_top_acc:0.5769\n",
      "Epoch 2500, train_loss: 0.3896, train_acc:0.6634, test_loss:0.6464, test_acc:0.3590, train_top_acc:0.8812, test_top_acc:0.6154\n",
      "Epoch 2600, train_loss: 0.3694, train_acc:0.6469, test_loss:0.6542, test_acc:0.3462, train_top_acc:0.8515, test_top_acc:0.5769\n",
      "Epoch 2700, train_loss: 0.3736, train_acc:0.6601, test_loss:0.6620, test_acc:0.3590, train_top_acc:0.8911, test_top_acc:0.5769\n",
      "Epoch 2800, train_loss: 0.3759, train_acc:0.6601, test_loss:0.6722, test_acc:0.3590, train_top_acc:0.8515, test_top_acc:0.5769\n",
      "Epoch 2900, train_loss: 0.3720, train_acc:0.6667, test_loss:0.6791, test_acc:0.3590, train_top_acc:0.8812, test_top_acc:0.6154\n",
      "Epoch 3000, train_loss: 0.3660, train_acc:0.6667, test_loss:0.6921, test_acc:0.3718, train_top_acc:0.8911, test_top_acc:0.5769\n",
      "Epoch 3100, train_loss: 0.3616, train_acc:0.6502, test_loss:0.6990, test_acc:0.3718, train_top_acc:0.8713, test_top_acc:0.5769\n",
      "Epoch 3200, train_loss: 0.3627, train_acc:0.6667, test_loss:0.7074, test_acc:0.3718, train_top_acc:0.8713, test_top_acc:0.5769\n",
      "Epoch 3300, train_loss: 0.3699, train_acc:0.6667, test_loss:0.7148, test_acc:0.3718, train_top_acc:0.8416, test_top_acc:0.5385\n",
      "Epoch 3400, train_loss: 0.3568, train_acc:0.6634, test_loss:0.7240, test_acc:0.3718, train_top_acc:0.8713, test_top_acc:0.5769\n",
      "Epoch 3500, train_loss: 0.3601, train_acc:0.6601, test_loss:0.7332, test_acc:0.3718, train_top_acc:0.8713, test_top_acc:0.5385\n",
      "Epoch 3600, train_loss: 0.3579, train_acc:0.6733, test_loss:0.7412, test_acc:0.3718, train_top_acc:0.8911, test_top_acc:0.5385\n",
      "Epoch 3700, train_loss: 0.3420, train_acc:0.7129, test_loss:0.7522, test_acc:0.3718, train_top_acc:0.9208, test_top_acc:0.5769\n",
      "Epoch 3800, train_loss: 0.3619, train_acc:0.6700, test_loss:0.7564, test_acc:0.3718, train_top_acc:0.8713, test_top_acc:0.5385\n",
      "Epoch 3900, train_loss: 0.3599, train_acc:0.6634, test_loss:0.7655, test_acc:0.3718, train_top_acc:0.8614, test_top_acc:0.5385\n",
      "Epoch 4000, train_loss: 0.3387, train_acc:0.6799, test_loss:0.7741, test_acc:0.3718, train_top_acc:0.9109, test_top_acc:0.5769\n",
      "Epoch 4100, train_loss: 0.3356, train_acc:0.7063, test_loss:0.7818, test_acc:0.3718, train_top_acc:0.9010, test_top_acc:0.5385\n",
      "Epoch 4200, train_loss: 0.3516, train_acc:0.6931, test_loss:0.7904, test_acc:0.3718, train_top_acc:0.8812, test_top_acc:0.5385\n",
      "Epoch 4300, train_loss: 0.3517, train_acc:0.6898, test_loss:0.7969, test_acc:0.3718, train_top_acc:0.8515, test_top_acc:0.5769\n",
      "Epoch 4400, train_loss: 0.3536, train_acc:0.6832, test_loss:0.8048, test_acc:0.3718, train_top_acc:0.9109, test_top_acc:0.5385\n",
      "Epoch 4500, train_loss: 0.3413, train_acc:0.6964, test_loss:0.8112, test_acc:0.3718, train_top_acc:0.8812, test_top_acc:0.5385\n",
      "Epoch 4600, train_loss: 0.3388, train_acc:0.6799, test_loss:0.8191, test_acc:0.3718, train_top_acc:0.8911, test_top_acc:0.5385\n",
      "Epoch 4700, train_loss: 0.3602, train_acc:0.6733, test_loss:0.8261, test_acc:0.3590, train_top_acc:0.8515, test_top_acc:0.5385\n",
      "Epoch 4800, train_loss: 0.3334, train_acc:0.7096, test_loss:0.8325, test_acc:0.3590, train_top_acc:0.8614, test_top_acc:0.5385\n",
      "Epoch 4900, train_loss: 0.3381, train_acc:0.7129, test_loss:0.8402, test_acc:0.3590, train_top_acc:0.8614, test_top_acc:0.5385\n",
      "Epoch 5000, train_loss: 0.3340, train_acc:0.6898, test_loss:0.8489, test_acc:0.3718, train_top_acc:0.9406, test_top_acc:0.5385\n"
     ]
    },
    {
     "data": {
      "image/png": "[encoded data removed]",
      "text/plain": [
       "<Figure size 432x288 with 1 Axes>"
      ]
     },
     "metadata": {
      "needs_background": "light",
      "tags": []
     },
     "output_type": "display_data"
    }
   ],
   "source": [
    "train_model(train_dataset, test_dataset, model1, nn.BCEWithLogitsLoss())"
   ]
  },
  {
   "cell_type": "code",
   "execution_count": 14,
   "metadata": {
    "colab": {
     "base_uri": "https://localhost:8080/",
     "height": 1000
    },
    "executionInfo": {
     "elapsed": 164592,
     "status": "ok",
     "timestamp": 1622731949023,
     "user": {
      "displayName": "Yi Chong",
      "photoUrl": "https://lh3.googleusercontent.com/a-/AOh14GiPtXBFAhk5rekZYvy0iI74dSN6ocIKn-UouPMS=s64",
      "userId": "04100457509697227857"
     },
     "user_tz": -480
    },
    "id": "aW07UWdpQwIx",
    "outputId": "d098da1f-21c0-4ba6-dd83-0671e1957fca"
   },
   "outputs": [
    {
     "name": "stdout",
     "output_type": "stream",
     "text": [
      "Epoch 100, train_loss: 0.5389, train_acc:0.3993, test_loss:0.5335, test_acc:0.3846, train_top_acc:0.4059, test_top_acc:0.3846\n",
      "Epoch 200, train_loss: 0.5129, train_acc:0.4488, test_loss:0.5249, test_acc:0.3846, train_top_acc:0.5050, test_top_acc:0.4231\n",
      "Epoch 300, train_loss: 0.5030, train_acc:0.4554, test_loss:0.5253, test_acc:0.3846, train_top_acc:0.5446, test_top_acc:0.3846\n",
      "Epoch 400, train_loss: 0.4969, train_acc:0.4818, test_loss:0.5240, test_acc:0.4103, train_top_acc:0.6931, test_top_acc:0.4615\n",
      "Epoch 500, train_loss: 0.4900, train_acc:0.5017, test_loss:0.5242, test_acc:0.4103, train_top_acc:0.6634, test_top_acc:0.4615\n",
      "Epoch 600, train_loss: 0.4753, train_acc:0.5083, test_loss:0.5267, test_acc:0.3974, train_top_acc:0.7723, test_top_acc:0.4231\n",
      "Epoch 700, train_loss: 0.4668, train_acc:0.5413, test_loss:0.5298, test_acc:0.3974, train_top_acc:0.7426, test_top_acc:0.4231\n",
      "Epoch 800, train_loss: 0.4639, train_acc:0.5578, test_loss:0.5341, test_acc:0.3846, train_top_acc:0.7129, test_top_acc:0.3846\n",
      "Epoch 900, train_loss: 0.4555, train_acc:0.5545, test_loss:0.5391, test_acc:0.3718, train_top_acc:0.7525, test_top_acc:0.3846\n",
      "Epoch 1000, train_loss: 0.4461, train_acc:0.5578, test_loss:0.5448, test_acc:0.3590, train_top_acc:0.8317, test_top_acc:0.4615\n",
      "Epoch 1100, train_loss: 0.4535, train_acc:0.5380, test_loss:0.5514, test_acc:0.3718, train_top_acc:0.7624, test_top_acc:0.5385\n",
      "Epoch 1200, train_loss: 0.4393, train_acc:0.5710, test_loss:0.5576, test_acc:0.3590, train_top_acc:0.8218, test_top_acc:0.5385\n",
      "Epoch 1300, train_loss: 0.4341, train_acc:0.6007, test_loss:0.5636, test_acc:0.3590, train_top_acc:0.7921, test_top_acc:0.5385\n",
      "Epoch 1400, train_loss: 0.4287, train_acc:0.5776, test_loss:0.5715, test_acc:0.3718, train_top_acc:0.8713, test_top_acc:0.5385\n",
      "Epoch 1500, train_loss: 0.4227, train_acc:0.5908, test_loss:0.5783, test_acc:0.3590, train_top_acc:0.8119, test_top_acc:0.5000\n",
      "Epoch 1600, train_loss: 0.4179, train_acc:0.6040, test_loss:0.5858, test_acc:0.3718, train_top_acc:0.8218, test_top_acc:0.5000\n",
      "Epoch 1700, train_loss: 0.4121, train_acc:0.6139, test_loss:0.5937, test_acc:0.3718, train_top_acc:0.7723, test_top_acc:0.5000\n",
      "Epoch 1800, train_loss: 0.3990, train_acc:0.6139, test_loss:0.6026, test_acc:0.3718, train_top_acc:0.8812, test_top_acc:0.5385\n",
      "Epoch 1900, train_loss: 0.4010, train_acc:0.6205, test_loss:0.6110, test_acc:0.3590, train_top_acc:0.8317, test_top_acc:0.5385\n",
      "Epoch 2000, train_loss: 0.4050, train_acc:0.6172, test_loss:0.6189, test_acc:0.3590, train_top_acc:0.8614, test_top_acc:0.5385\n",
      "Epoch 2100, train_loss: 0.4064, train_acc:0.5941, test_loss:0.6291, test_acc:0.3718, train_top_acc:0.8218, test_top_acc:0.5385\n",
      "Epoch 2200, train_loss: 0.3883, train_acc:0.6436, test_loss:0.6377, test_acc:0.3718, train_top_acc:0.8911, test_top_acc:0.5385\n",
      "Epoch 2300, train_loss: 0.3856, train_acc:0.6271, test_loss:0.6457, test_acc:0.3846, train_top_acc:0.8614, test_top_acc:0.5385\n",
      "Epoch 2400, train_loss: 0.3733, train_acc:0.6733, test_loss:0.6564, test_acc:0.3846, train_top_acc:0.8119, test_top_acc:0.5385\n",
      "Epoch 2500, train_loss: 0.3751, train_acc:0.6535, test_loss:0.6645, test_acc:0.3974, train_top_acc:0.8020, test_top_acc:0.5385\n",
      "Epoch 2600, train_loss: 0.3655, train_acc:0.6502, test_loss:0.6737, test_acc:0.3974, train_top_acc:0.9010, test_top_acc:0.5385\n",
      "Epoch 2700, train_loss: 0.3761, train_acc:0.6436, test_loss:0.6834, test_acc:0.3974, train_top_acc:0.8317, test_top_acc:0.5385\n",
      "Epoch 2800, train_loss: 0.3654, train_acc:0.6700, test_loss:0.6929, test_acc:0.4103, train_top_acc:0.8317, test_top_acc:0.5385\n",
      "Epoch 2900, train_loss: 0.3790, train_acc:0.6568, test_loss:0.7038, test_acc:0.3974, train_top_acc:0.8317, test_top_acc:0.5000\n",
      "Epoch 3000, train_loss: 0.3619, train_acc:0.6568, test_loss:0.7132, test_acc:0.3974, train_top_acc:0.8317, test_top_acc:0.5000\n",
      "Epoch 3100, train_loss: 0.3628, train_acc:0.6568, test_loss:0.7208, test_acc:0.3974, train_top_acc:0.8713, test_top_acc:0.5000\n",
      "Epoch 3200, train_loss: 0.3572, train_acc:0.6700, test_loss:0.7316, test_acc:0.3846, train_top_acc:0.8614, test_top_acc:0.5385\n",
      "Epoch 3300, train_loss: 0.3627, train_acc:0.6733, test_loss:0.7421, test_acc:0.3846, train_top_acc:0.8515, test_top_acc:0.5000\n",
      "Epoch 3400, train_loss: 0.3481, train_acc:0.6931, test_loss:0.7517, test_acc:0.3846, train_top_acc:0.8317, test_top_acc:0.4615\n",
      "Epoch 3500, train_loss: 0.3563, train_acc:0.6700, test_loss:0.7604, test_acc:0.3590, train_top_acc:0.8416, test_top_acc:0.5000\n",
      "Epoch 3600, train_loss: 0.3538, train_acc:0.6700, test_loss:0.7710, test_acc:0.3718, train_top_acc:0.8713, test_top_acc:0.4615\n",
      "Epoch 3700, train_loss: 0.3597, train_acc:0.6766, test_loss:0.7803, test_acc:0.3590, train_top_acc:0.8119, test_top_acc:0.4615\n",
      "Epoch 3800, train_loss: 0.3551, train_acc:0.6700, test_loss:0.7880, test_acc:0.3718, train_top_acc:0.8416, test_top_acc:0.4615\n",
      "Epoch 3900, train_loss: 0.3435, train_acc:0.6997, test_loss:0.7983, test_acc:0.3590, train_top_acc:0.8713, test_top_acc:0.4615\n",
      "Epoch 4000, train_loss: 0.3419, train_acc:0.7030, test_loss:0.8090, test_acc:0.3590, train_top_acc:0.8515, test_top_acc:0.4615\n",
      "Epoch 4100, train_loss: 0.3414, train_acc:0.6799, test_loss:0.8158, test_acc:0.3718, train_top_acc:0.8515, test_top_acc:0.4615\n",
      "Epoch 4200, train_loss: 0.3434, train_acc:0.6799, test_loss:0.8235, test_acc:0.3590, train_top_acc:0.8614, test_top_acc:0.5000\n",
      "Epoch 4300, train_loss: 0.3411, train_acc:0.6964, test_loss:0.8359, test_acc:0.3590, train_top_acc:0.8713, test_top_acc:0.5000\n",
      "Epoch 4400, train_loss: 0.3332, train_acc:0.7294, test_loss:0.8448, test_acc:0.3590, train_top_acc:0.8614, test_top_acc:0.5000\n",
      "Epoch 4500, train_loss: 0.3478, train_acc:0.6733, test_loss:0.8538, test_acc:0.3333, train_top_acc:0.8713, test_top_acc:0.5385\n",
      "Epoch 4600, train_loss: 0.3421, train_acc:0.7228, test_loss:0.8602, test_acc:0.3333, train_top_acc:0.8218, test_top_acc:0.5385\n",
      "Epoch 4700, train_loss: 0.3338, train_acc:0.7063, test_loss:0.8692, test_acc:0.3333, train_top_acc:0.8416, test_top_acc:0.5385\n",
      "Epoch 4800, train_loss: 0.3486, train_acc:0.6568, test_loss:0.8751, test_acc:0.3333, train_top_acc:0.7921, test_top_acc:0.5385\n",
      "Epoch 4900, train_loss: 0.3245, train_acc:0.6865, test_loss:0.8835, test_acc:0.3333, train_top_acc:0.8713, test_top_acc:0.5385\n",
      "Epoch 5000, train_loss: 0.3435, train_acc:0.6799, test_loss:0.8913, test_acc:0.3205, train_top_acc:0.8614, test_top_acc:0.5385\n"
     ]
    },
    {
     "data": {
      "image/png": "[encoded data removed]",
      "text/plain": [
       "<Figure size 432x288 with 1 Axes>"
      ]
     },
     "metadata": {
      "needs_background": "light",
      "tags": []
     },
     "output_type": "display_data"
    }
   ],
   "source": [
    "train_model(train_dataset, test_dataset, model2, nn.MultiLabelSoftMarginLoss())"
   ]
  },
  {
   "cell_type": "code",
   "execution_count": 15,
   "metadata": {
    "colab": {
     "base_uri": "https://localhost:8080/"
    },
    "executionInfo": {
     "elapsed": 11,
     "status": "ok",
     "timestamp": 1622731949024,
     "user": {
      "displayName": "Yi Chong",
      "photoUrl": "https://lh3.googleusercontent.com/a-/AOh14GiPtXBFAhk5rekZYvy0iI74dSN6ocIKn-UouPMS=s64",
      "userId": "04100457509697227857"
     },
     "user_tz": -480
    },
    "id": "SJ1vHuW0QwKn",
    "outputId": "a904f1af-1457-42b0-b41a-12dc6150aefa"
   },
   "outputs": [
    {
     "name": "stdout",
     "output_type": "stream",
     "text": [
      "-------------------------------Test------------------------\n",
      "Confusion Matrix\n",
      " [[175  59]\n",
      " [ 44  34]]\n",
      "              precision    recall  f1-score   support\n",
      "\n",
      "           0       0.00      0.00      0.00         3\n",
      "           1       0.36      0.40      0.38        10\n",
      "           2       0.33      0.50      0.40         6\n",
      "           3       0.20      0.25      0.22         4\n",
      "           4       0.00      0.00      0.00         3\n",
      "           5       0.56      0.36      0.43        14\n",
      "           6       0.55      0.60      0.57        10\n",
      "           7       0.38      1.00      0.55         3\n",
      "           8       0.22      0.29      0.25         7\n",
      "           9       0.00      0.00      0.00         2\n",
      "          10       0.42      0.56      0.48         9\n",
      "          11       0.38      0.71      0.50         7\n",
      "\n",
      "   micro avg       0.37      0.44      0.40        78\n",
      "   macro avg       0.28      0.39      0.32        78\n",
      "weighted avg       0.37      0.44      0.39        78\n",
      " samples avg       0.38      0.44      0.40        78\n",
      "\n",
      "-------------------------------Test------------------------\n",
      "------------------------------Train------------------------\n",
      "Confusion Matrix\n",
      " [[863  46]\n",
      " [ 61 242]]\n",
      "              precision    recall  f1-score   support\n",
      "\n",
      "           0       0.56      0.56      0.56         9\n",
      "           1       0.73      0.92      0.81        26\n",
      "           2       0.71      0.71      0.71        17\n",
      "           3       0.87      0.87      0.87        15\n",
      "           4       1.00      0.22      0.36         9\n",
      "           5       0.91      0.93      0.92        43\n",
      "           6       0.91      0.84      0.88        38\n",
      "           7       0.88      0.74      0.80        19\n",
      "           8       0.78      0.72      0.75        29\n",
      "           9       0.75      0.30      0.43        10\n",
      "          10       0.93      0.96      0.95        45\n",
      "          11       0.82      0.77      0.80        43\n",
      "\n",
      "   micro avg       0.84      0.80      0.82       303\n",
      "   macro avg       0.82      0.71      0.74       303\n",
      "weighted avg       0.84      0.80      0.81       303\n",
      " samples avg       0.86      0.80      0.81       303\n",
      "\n",
      "------------------------------Train------------------------\n"
     ]
    }
   ],
   "source": [
    "get_confusion_matrix_yc(test_loader, train_loader, model1)"
   ]
  },
  {
   "cell_type": "code",
   "execution_count": 20,
   "metadata": {
    "colab": {
     "base_uri": "https://localhost:8080/"
    },
    "executionInfo": {
     "elapsed": 313,
     "status": "ok",
     "timestamp": 1622732288479,
     "user": {
      "displayName": "Yi Chong",
      "photoUrl": "https://lh3.googleusercontent.com/a-/AOh14GiPtXBFAhk5rekZYvy0iI74dSN6ocIKn-UouPMS=s64",
      "userId": "04100457509697227857"
     },
     "user_tz": -480
    },
    "id": "jEjssliTRetU",
    "outputId": "3804784b-affb-43c7-8d8f-20d419b61a19"
   },
   "outputs": [
    {
     "name": "stdout",
     "output_type": "stream",
     "text": [
      "-------------------------------Test------------------------\n",
      "Confusion Matrix\n",
      " [[185  49]\n",
      " [ 49  29]]\n",
      "              precision    recall  f1-score   support\n",
      "\n",
      "           0       0.00      0.00      0.00         3\n",
      "           1       0.33      0.30      0.32        10\n",
      "           2       0.25      0.33      0.29         6\n",
      "           3       0.00      0.00      0.00         4\n",
      "           4       0.00      0.00      0.00         3\n",
      "           5       0.56      0.36      0.43        14\n",
      "           6       0.55      0.60      0.57        10\n",
      "           7       0.29      0.67      0.40         3\n",
      "           8       0.25      0.29      0.27         7\n",
      "           9       0.00      0.00      0.00         2\n",
      "          10       0.45      0.56      0.50         9\n",
      "          11       0.40      0.57      0.47         7\n",
      "\n",
      "   micro avg       0.37      0.37      0.37        78\n",
      "   macro avg       0.26      0.31      0.27        78\n",
      "weighted avg       0.35      0.37      0.35        78\n",
      " samples avg       0.37      0.37      0.37        78\n",
      "\n",
      "-------------------------------Test------------------------\n",
      "------------------------------Train------------------------\n",
      "Confusion Matrix\n",
      " [[861  48]\n",
      " [ 48 255]]\n",
      "              precision    recall  f1-score   support\n",
      "\n",
      "           0       0.62      0.56      0.59         9\n",
      "           1       0.72      0.88      0.79        26\n",
      "           2       0.75      0.71      0.73        17\n",
      "           3       0.88      0.93      0.90        15\n",
      "           4       0.80      0.44      0.57         9\n",
      "           5       0.91      0.98      0.94        43\n",
      "           6       0.87      0.89      0.88        38\n",
      "           7       0.83      0.79      0.81        19\n",
      "           8       0.88      0.79      0.84        29\n",
      "           9       0.50      0.30      0.37        10\n",
      "          10       0.93      0.96      0.95        45\n",
      "          11       0.82      0.86      0.84        43\n",
      "\n",
      "   micro avg       0.84      0.84      0.84       303\n",
      "   macro avg       0.79      0.76      0.77       303\n",
      "weighted avg       0.84      0.84      0.84       303\n",
      " samples avg       0.84      0.84      0.84       303\n",
      "\n",
      "------------------------------Train------------------------\n"
     ]
    },
    {
     "name": "stderr",
     "output_type": "stream",
     "text": [
      "/usr/local/lib/python3.7/dist-packages/sklearn/metrics/_classification.py:1272: UndefinedMetricWarning: Precision and F-score are ill-defined and being set to 0.0 in labels with no predicted samples. Use `zero_division` parameter to control this behavior.\n",
      "  _warn_prf(average, modifier, msg_start, len(result))\n"
     ]
    }
   ],
   "source": [
    "get_confusion_matrix_alvin(test_loader, train_loader, model1)"
   ]
  },
  {
   "cell_type": "code",
   "execution_count": 21,
   "metadata": {
    "colab": {
     "base_uri": "https://localhost:8080/"
    },
    "executionInfo": {
     "elapsed": 302,
     "status": "ok",
     "timestamp": 1622732291608,
     "user": {
      "displayName": "Yi Chong",
      "photoUrl": "https://lh3.googleusercontent.com/a-/AOh14GiPtXBFAhk5rekZYvy0iI74dSN6ocIKn-UouPMS=s64",
      "userId": "04100457509697227857"
     },
     "user_tz": -480
    },
    "id": "PwgqJVDgVb5T",
    "outputId": "95491a67-2c1b-4585-9ce0-c02f59846f94"
   },
   "outputs": [
    {
     "name": "stdout",
     "output_type": "stream",
     "text": [
      "-------------------------------Test------------------------\n",
      "Confusion Matrix\n",
      " [[177  57]\n",
      " [ 50  28]]\n",
      "              precision    recall  f1-score   support\n",
      "\n",
      "           0       0.00      0.00      0.00         3\n",
      "           1       0.50      0.20      0.29        10\n",
      "           2       0.30      0.50      0.37         6\n",
      "           3       0.20      0.25      0.22         4\n",
      "           4       0.00      0.00      0.00         3\n",
      "           5       0.57      0.29      0.38        14\n",
      "           6       0.55      0.60      0.57        10\n",
      "           7       0.25      0.33      0.29         3\n",
      "           8       0.20      0.29      0.24         7\n",
      "           9       0.00      0.00      0.00         2\n",
      "          10       0.42      0.56      0.48         9\n",
      "          11       0.31      0.57      0.40         7\n",
      "\n",
      "   micro avg       0.33      0.36      0.34        78\n",
      "   macro avg       0.27      0.30      0.27        78\n",
      "weighted avg       0.37      0.36      0.34        78\n",
      " samples avg       0.38      0.36      0.35        78\n",
      "\n",
      "-------------------------------Test------------------------\n",
      "------------------------------Train------------------------\n",
      "Confusion Matrix\n",
      " [[852  57]\n",
      " [ 51 252]]\n",
      "              precision    recall  f1-score   support\n",
      "\n",
      "           0       0.58      0.78      0.67         9\n",
      "           1       0.71      0.85      0.77        26\n",
      "           2       0.74      0.82      0.78        17\n",
      "           3       0.72      0.87      0.79        15\n",
      "           4       1.00      0.44      0.62         9\n",
      "           5       0.83      0.93      0.88        43\n",
      "           6       0.94      0.84      0.89        38\n",
      "           7       0.72      0.68      0.70        19\n",
      "           8       0.81      0.76      0.79        29\n",
      "           9       0.80      0.80      0.80        10\n",
      "          10       0.95      0.93      0.94        45\n",
      "          11       0.80      0.81      0.80        43\n",
      "\n",
      "   micro avg       0.82      0.83      0.82       303\n",
      "   macro avg       0.80      0.79      0.79       303\n",
      "weighted avg       0.83      0.83      0.82       303\n",
      " samples avg       0.84      0.83      0.82       303\n",
      "\n",
      "------------------------------Train------------------------\n"
     ]
    }
   ],
   "source": [
    "get_confusion_matrix_yc(test_loader, train_loader, model2)"
   ]
  },
  {
   "cell_type": "code",
   "execution_count": 22,
   "metadata": {
    "colab": {
     "base_uri": "https://localhost:8080/"
    },
    "executionInfo": {
     "elapsed": 385,
     "status": "ok",
     "timestamp": 1622732296233,
     "user": {
      "displayName": "Yi Chong",
      "photoUrl": "https://lh3.googleusercontent.com/a-/AOh14GiPtXBFAhk5rekZYvy0iI74dSN6ocIKn-UouPMS=s64",
      "userId": "04100457509697227857"
     },
     "user_tz": -480
    },
    "id": "77JOY-xFUiwn",
    "outputId": "79001d6d-4305-4aaf-8293-071a166bbae8"
   },
   "outputs": [
    {
     "name": "stdout",
     "output_type": "stream",
     "text": [
      "-------------------------------Test------------------------\n",
      "Confusion Matrix\n",
      " [[181  53]\n",
      " [ 53  25]]\n",
      "              precision    recall  f1-score   support\n",
      "\n",
      "           0       0.00      0.00      0.00         3\n",
      "           1       0.67      0.20      0.31        10\n",
      "           2       0.30      0.50      0.37         6\n",
      "           3       0.00      0.00      0.00         4\n",
      "           4       0.00      0.00      0.00         3\n",
      "           5       0.50      0.21      0.30        14\n",
      "           6       0.55      0.60      0.57        10\n",
      "           7       0.00      0.00      0.00         3\n",
      "           8       0.18      0.29      0.22         7\n",
      "           9       0.00      0.00      0.00         2\n",
      "          10       0.38      0.56      0.45         9\n",
      "          11       0.40      0.57      0.47         7\n",
      "\n",
      "   micro avg       0.32      0.32      0.32        78\n",
      "   macro avg       0.25      0.24      0.23        78\n",
      "weighted avg       0.36      0.32      0.31        78\n",
      " samples avg       0.32      0.32      0.32        78\n",
      "\n",
      "-------------------------------Test------------------------\n",
      "------------------------------Train------------------------\n",
      "Confusion Matrix\n",
      " [[867  42]\n",
      " [ 42 261]]\n",
      "              precision    recall  f1-score   support\n",
      "\n",
      "           0       0.60      0.67      0.63         9\n",
      "           1       0.85      0.85      0.85        26\n",
      "           2       0.79      0.88      0.83        17\n",
      "           3       0.82      0.93      0.87        15\n",
      "           4       1.00      0.67      0.80         9\n",
      "           5       0.89      0.95      0.92        43\n",
      "           6       0.89      0.89      0.89        38\n",
      "           7       0.78      0.74      0.76        19\n",
      "           8       0.88      0.76      0.81        29\n",
      "           9       0.90      0.90      0.90        10\n",
      "          10       0.95      0.93      0.94        45\n",
      "          11       0.82      0.84      0.83        43\n",
      "\n",
      "   micro avg       0.86      0.86      0.86       303\n",
      "   macro avg       0.85      0.83      0.84       303\n",
      "weighted avg       0.86      0.86      0.86       303\n",
      " samples avg       0.86      0.86      0.86       303\n",
      "\n",
      "------------------------------Train------------------------\n"
     ]
    }
   ],
   "source": [
    "get_confusion_matrix_alvin(test_loader, train_loader, model2)"
   ]
  }
 ],
 "metadata": {
  "colab": {
   "authorship_tag": "ABX9TyM5kTANwEh9w3RhywsYNWjR",
   "collapsed_sections": [],
   "name": "Clean Lovathon.ipynb",
   "provenance": []
  },
  "kernelspec": {
   "display_name": "Python 3",
   "language": "python",
   "name": "python3"
  },
  "language_info": {
   "codemirror_mode": {
    "name": "ipython",
    "version": 3
   },
   "file_extension": ".py",
   "mimetype": "text/x-python",
   "name": "python",
   "nbconvert_exporter": "python",
   "pygments_lexer": "ipython3",
   "version": "3.8.2"
  }
 },
 "nbformat": 4,
 "nbformat_minor": 1
}
